{
 "cells": [
  {
   "cell_type": "markdown",
   "metadata": {},
   "source": [
    "DISCIPLINA: Sistemas de Apoio à Decisão \tPROFESSOR(A): Alex Salgado \n",
    " \n",
    "PERÍODO: 7o. \t\t\t\tTURNO: noite \t\tAVALIAÇÃO: \n",
    " \n",
    "ALUNO(A): Samuel Benevides de Barros_________________________________________________________\n",
    " \n",
    "GRAU: \t\t\t\t\t\t\tVISTO DO PROFESSOR:\n",
    " \n",
    "Preencha sua resposta no próprio arquivo do Jupyter e depois me envie no link abaixo:\n",
    "resposta: https://goo.gl/forms/aOml4FAMaTmB4u482\n"
   ]
  },
  {
   "cell_type": "markdown",
   "metadata": {},
   "source": [
    "## Questão 1 - valor (0,5)\n",
    "1.1 - Importar os modulos python para machine learn e carregar o arquivo pacotes.xlsx usando o método read_excel do pandas"
   ]
  },
  {
   "cell_type": "code",
   "execution_count": 27,
   "metadata": {},
   "outputs": [],
   "source": [
    "import pandas as pd\n",
    "import numpy as np\n",
    "\n",
    "\n",
    "# read a csv\n",
    "df = pd.read_excel('~/seaborn-data/pacotes.xlsx')"
   ]
  },
  {
   "cell_type": "markdown",
   "metadata": {},
   "source": [
    "1.2 - Exibir os primeiros registros desta tabela"
   ]
  },
  {
   "cell_type": "code",
   "execution_count": 28,
   "metadata": {},
   "outputs": [
    {
     "ename": "SyntaxError",
     "evalue": "unexpected EOF while parsing (<ipython-input-28-267c4101d79d>, line 28)",
     "output_type": "error",
     "traceback": [
      "\u001b[1;36m  File \u001b[1;32m\"<ipython-input-28-267c4101d79d>\"\u001b[1;36m, line \u001b[1;32m28\u001b[0m\n\u001b[1;33m    .highlight_null(null_color='red')\u001b[0m\n\u001b[1;37m                                     ^\u001b[0m\n\u001b[1;31mSyntaxError\u001b[0m\u001b[1;31m:\u001b[0m unexpected EOF while parsing\n"
     ]
    }
   ],
   "source": [
    "df.columns = df.columns.str.replace('\\s+','_').str.lower()\n",
    "# in pandas 0.17.1 and more : sample and style ... \n",
    "def color_negative_red(val):\n",
    "    \"\"\"\n",
    "    Takes a scalar and returns a string with\n",
    "    the css property `'color: red'` for negative\n",
    "    strings, black otherwise.\n",
    "    \"\"\"\n",
    "    color = 'red' if   (isinstance(val, (int,   float)) and val < 3) else 'black'\n",
    "    return 'color: %s' % color\n",
    "\n",
    "def highlight_max(s):\n",
    "    '''\n",
    "    highlight the maximum in a Series\n",
    "    '''\n",
    "    is_max = s == s.max()\n",
    "    return ['background-color: yellow' if v else '' for v in is_max]\n",
    "\n",
    "cm = sns.light_palette(\"green\", as_cmap=True)\n",
    "\n",
    "(df\n",
    "   .sample (n=7)\n",
    "   .style\n",
    "   .applymap(color_negative_red, subset=pd.IndexSlice[['sepal_width', 'petal_width']])\n",
    "   .bar(subset=['sepal_length', 'petal_length'], color='#7F7FFF')\n",
    "   .background_gradient(subset=['sepal_width', 'petal_width'], cmap=cm)\n",
    "   .apply(highlight_max)\n",
    "   .highlight_null(null_color='red')"
   ]
  },
  {
   "cell_type": "markdown",
   "metadata": {},
   "source": [
    "## Questão 2 - valor (0,5)\n",
    "Utilizando as terminologias de Machine Learning(features e observações):  \n",
    "2.1 - Quantas \"features\" têm nessa base de dados?"
   ]
  },
  {
   "cell_type": "code",
   "execution_count": null,
   "metadata": {
    "collapsed": true
   },
   "outputs": [],
   "source": []
  },
  {
   "cell_type": "markdown",
   "metadata": {},
   "source": [
    "2.2 - Quantas observações têm nessa base de dados?"
   ]
  },
  {
   "cell_type": "code",
   "execution_count": null,
   "metadata": {
    "collapsed": true
   },
   "outputs": [],
   "source": []
  },
  {
   "cell_type": "markdown",
   "metadata": {},
   "source": [
    "## Questão 3 - valor (2,0)\n",
    "3.1 - Usando o algoritmo de KNN (com 5 vizinhos, k=5), qual a previsão? Adivinhe qual é o pacote com peso 770g, largura 26.8 cm, altura 15.62 cm, ou seja, com as seguintes features (peso = 779, largura=26.8, altura=15.62).\n"
   ]
  },
  {
   "cell_type": "code",
   "execution_count": null,
   "metadata": {
    "collapsed": true
   },
   "outputs": [],
   "source": []
  },
  {
   "cell_type": "markdown",
   "metadata": {},
   "source": [
    "## Questão 4 - valor (3,0)\n",
    "Usando o método de avaliação de acurácia (Treinar e testar SEPARADAMENTE-Train/test split), Calcular a acurácia de cada um dos 3 métodos abaixo.  \n",
    "\n",
    "\n",
    "\n",
    "4.1 - Acurácia usando o algoritmo de KNN (com 1 vizinho, k=1)\n"
   ]
  },
  {
   "cell_type": "code",
   "execution_count": null,
   "metadata": {
    "collapsed": true
   },
   "outputs": [],
   "source": []
  },
  {
   "cell_type": "markdown",
   "metadata": {},
   "source": [
    "4.2 - Acurácia usando o algoritmo de KNN (com 5 vizinho, k=5)"
   ]
  },
  {
   "cell_type": "code",
   "execution_count": null,
   "metadata": {
    "collapsed": true
   },
   "outputs": [],
   "source": []
  },
  {
   "cell_type": "markdown",
   "metadata": {},
   "source": [
    "4.3 - Acurácia usando o algoritmo de LogisticRegression"
   ]
  },
  {
   "cell_type": "code",
   "execution_count": null,
   "metadata": {
    "collapsed": true
   },
   "outputs": [],
   "source": []
  },
  {
   "cell_type": "markdown",
   "metadata": {},
   "source": [
    "4.4 - De acordo com seus resultados anteriores, qual dos 3 métodos é mais eficiente?"
   ]
  },
  {
   "cell_type": "markdown",
   "metadata": {},
   "source": []
  }
 ],
 "metadata": {
  "kernelspec": {
   "display_name": "Python 3",
   "language": "python",
   "name": "python3"
  },
  "language_info": {
   "codemirror_mode": {
    "name": "ipython",
    "version": 3
   },
   "file_extension": ".py",
   "mimetype": "text/x-python",
   "name": "python",
   "nbconvert_exporter": "python",
   "pygments_lexer": "ipython3",
   "version": "3.5.3"
  }
 },
 "nbformat": 4,
 "nbformat_minor": 2
}
